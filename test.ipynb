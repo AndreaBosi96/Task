{
 "cells": [
  {
   "cell_type": "code",
   "execution_count": 1,
   "metadata": {},
   "outputs": [],
   "source": [
    "import xml.etree.ElementTree as ET\n",
    "import os\n"
   ]
  },
  {
   "cell_type": "code",
   "execution_count": 7,
   "metadata": {},
   "outputs": [],
   "source": [
    "def parseXML(xmlfile):\n",
    "  \n",
    "    # create element tree object\n",
    "    tree = ET.parse(xmlfile)\n",
    "  \n",
    "    # get root element\n",
    "    root = tree.getroot()\n",
    "  \n",
    "    # create empty list for news items\n",
    "    newsitems = []\n",
    "  \n",
    "    # iterate news items\n",
    "    for item in root.findall('./channel/item'):\n",
    "  \n",
    "        # empty news dictionary\n",
    "        news = {}\n",
    "  \n",
    "        # iterate child elements of item\n",
    "        for child in item:\n",
    "  \n",
    "            # special checking for namespace object content:media\n",
    "            if child.tag == '{http://search.yahoo.com/mrss/}content':\n",
    "                news['media'] = child.attrib['url']\n",
    "            else:\n",
    "                news[child.tag] = child.text.encode('utf8')\n",
    "  \n",
    "        # append news dictionary to news items list\n",
    "        newsitems.append(news)\n",
    "      \n",
    "    # return news items list\n",
    "    return newsitems\n",
    "\n",
    "file = os.path.join(\"xmldata\",\"01.xml\")\n",
    "a = parseXML(file)"
   ]
  },
  {
   "cell_type": "code",
   "execution_count": 6,
   "metadata": {},
   "outputs": [
    {
     "data": {
      "text/plain": [
       "[]"
      ]
     },
     "execution_count": 6,
     "metadata": {},
     "output_type": "execute_result"
    }
   ],
   "source": [
    "file = os.path.join(\"xmldata\",\"01.xml\")\n",
    "a = parseXML(file)\n",
    "a\n"
   ]
  }
 ],
 "metadata": {
  "kernelspec": {
   "display_name": "Python 3.9.11 ('mypython3.9')",
   "language": "python",
   "name": "python3"
  },
  "language_info": {
   "codemirror_mode": {
    "name": "ipython",
    "version": 3
   },
   "file_extension": ".py",
   "mimetype": "text/x-python",
   "name": "python",
   "nbconvert_exporter": "python",
   "pygments_lexer": "ipython3",
   "version": "3.9.11"
  },
  "orig_nbformat": 4,
  "vscode": {
   "interpreter": {
    "hash": "814bce55fe48bc786ccd3aad2ec9b12071d0fd2b23ad166cfb1dbb301fc78822"
   }
  }
 },
 "nbformat": 4,
 "nbformat_minor": 2
}
